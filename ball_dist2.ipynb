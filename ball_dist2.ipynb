{
 "cells": [
  {
   "cell_type": "code",
   "execution_count": null,
   "id": "9df22540",
   "metadata": {},
   "outputs": [],
   "source": []
  },
  {
   "cell_type": "markdown",
   "id": "abbaaf36",
   "metadata": {},
   "source": [
    "# find distance "
   ]
  },
  {
   "cell_type": "markdown",
   "id": "30804b3c",
   "metadata": {},
   "source": [
    "referance: http://emaraic.com/blog/distance-measurement\n",
    "->\n",
    "d = f×Rcm/rcm\n",
    "->\n",
    "f = focal length / \n",
    "R = real size / \n",
    "r = size in image"
   ]
  },
  {
   "cell_type": "code",
   "execution_count": 10,
   "id": "012f5fcc",
   "metadata": {},
   "outputs": [],
   "source": [
    "import math"
   ]
  },
  {
   "cell_type": "code",
   "execution_count": 93,
   "id": "5ffa0f4f",
   "metadata": {},
   "outputs": [
    {
     "name": "stdout",
     "output_type": "stream",
     "text": [
      "Distance is: 30.066681929553344 cm\n"
     ]
    }
   ],
   "source": [
    "focal_length = 22\n",
    "object_pixel = 446  # 30 sm\n",
    "\n",
    "ball_sz = 42.67/2 # mm\n",
    "focal = focal_length * 3.7795275591 # 1 mm = 3.7795275591 pixel\n",
    "obj_im = object_pixel/2 * 0.26458333 # yolov5 result/\n",
    "\n",
    "d1 = focal * ball_sz / obj_im\n",
    "\n",
    "print(f'Distance is: {d1} cm')"
   ]
  },
  {
   "cell_type": "code",
   "execution_count": 94,
   "id": "c3d5c146",
   "metadata": {},
   "outputs": [
    {
     "name": "stdout",
     "output_type": "stream",
     "text": [
      "Distance is: 70.2080635632502 cm\n"
     ]
    }
   ],
   "source": [
    "focal_length = 22\n",
    "object_pixel = 191 # 70sm\n",
    "\n",
    "ball_sz = 42.67/2 # mm\n",
    "focal = focal_length * 3.7795275591 # 1 mm = 3.7795275591 pixel\n",
    "obj_im = object_pixel/2 * 0.26458333 # yolov5 result/\n",
    "\n",
    "d2 = focal * ball_sz / obj_im\n",
    "\n",
    "print(f'Distance is: {d2} cm')"
   ]
  },
  {
   "cell_type": "markdown",
   "id": "d758a2b8",
   "metadata": {},
   "source": [
    "3rd distance beetween a and c is b = (c index 2 - a index 2) index(1/2)"
   ]
  },
  {
   "cell_type": "code",
   "execution_count": 95,
   "id": "d3e546db",
   "metadata": {},
   "outputs": [],
   "source": [
    "a,c = d1,d2"
   ]
  },
  {
   "cell_type": "code",
   "execution_count": 96,
   "id": "4529417c",
   "metadata": {},
   "outputs": [
    {
     "name": "stdout",
     "output_type": "stream",
     "text": [
      " b :  63.44420246995348\n"
     ]
    }
   ],
   "source": [
    "# b = ((c**2) - (a**2))**(1/2)\n",
    "b = math.sqrt(c**2 - a**2)\n",
    "print(' b : ', b)"
   ]
  },
  {
   "cell_type": "markdown",
   "id": "fca2405f",
   "metadata": {},
   "source": [
    "cx = b index 2 / c"
   ]
  },
  {
   "cell_type": "markdown",
   "id": "b224740a",
   "metadata": {},
   "source": [
    "cy = a index 2 / c"
   ]
  },
  {
   "cell_type": "markdown",
   "id": "6c7717e4",
   "metadata": {},
   "source": [
    "ch = cx*cy index 1/2"
   ]
  },
  {
   "cell_type": "code",
   "execution_count": null,
   "id": "ececf306",
   "metadata": {},
   "outputs": [],
   "source": []
  },
  {
   "cell_type": "code",
   "execution_count": 72,
   "id": "53e6a638",
   "metadata": {},
   "outputs": [
    {
     "data": {
      "text/plain": [
       "8.0"
      ]
     },
     "execution_count": 72,
     "metadata": {},
     "output_type": "execute_result"
    }
   ],
   "source": [
    "import math\n",
    "math.sqrt(64)"
   ]
  },
  {
   "cell_type": "code",
   "execution_count": 73,
   "id": "f61ce2c2",
   "metadata": {},
   "outputs": [
    {
     "data": {
      "text/plain": [
       "12.806248474865697"
      ]
     },
     "execution_count": 73,
     "metadata": {},
     "output_type": "execute_result"
    }
   ],
   "source": [
    "(164)**(1/2)"
   ]
  },
  {
   "cell_type": "code",
   "execution_count": 90,
   "id": "960464de",
   "metadata": {},
   "outputs": [
    {
     "name": "stdout",
     "output_type": "stream",
     "text": [
      "cx:  12.876090243373742\n",
      "cy:  57.33197331987646\n",
      "ch:  27.1700508335451\n"
     ]
    }
   ],
   "source": [
    "cx = (a**2)/c\n",
    "# cx = math.sqrt(a)/c\n",
    "cy = b**2/c\n",
    "ch = (cx*cy)**(1/2)\n",
    "ch = math.sqrt(cx*cy)\n",
    "print('cx: ', cx)\n",
    "print('cy: ', cy)\n",
    "print('ch: ', ch)"
   ]
  },
  {
   "cell_type": "markdown",
   "id": "133a601f",
   "metadata": {},
   "source": [
    "sin(a) = a / c"
   ]
  },
  {
   "cell_type": "code",
   "execution_count": 131,
   "id": "8c3d913b",
   "metadata": {},
   "outputs": [],
   "source": [
    "def f_tri(human_h, ball_dist):\n",
    "    # sin a = c / a ::  a = hunab_h / c = ball_dist\n",
    "    a, c = human_h , ball_dist\n",
    "    sina= c / a \n",
    "    if sina > 1:\n",
    "        sina = sina-1\n",
    "    print('sina',sina)\n",
    "#     a_a = math.asin(sina)\n",
    "    a_a = math.degrees(sina)\n",
    "    print('degree' ,a_a)\n",
    "\n",
    "    b_a = 90 - a_a\n",
    "    g_a = 90\n",
    "    b_side = c * math.cos(a_a) # b = c * cos(alfa)  b**2 = c**2 - a**2 \n",
    "    b_side = ((c**2)-(a**2))**(1/2) # b**2 = c**2 - a**2 \n",
    "#     print('b ', int(round(b_side)))\n",
    "    return a_a, b_a, g_a, b_side"
   ]
  },
  {
   "cell_type": "code",
   "execution_count": 132,
   "id": "d240998a",
   "metadata": {},
   "outputs": [
    {
     "name": "stdout",
     "output_type": "stream",
     "text": [
      "sina 0.8363636363636364\n",
      "degree 47.920106501850675\n",
      "first triangle:  47.920106501850675 42.079893498149325 90 254.13382301456843\n"
     ]
    }
   ],
   "source": [
    "human_h, ball_dist  = 165, 303 # cm , \n",
    "a_a, b_a, g_a, b_side = f_tri(human_h, ball_dist)\n",
    "print('first triangle: ', a_a, b_a, g_a, b_side)"
   ]
  },
  {
   "cell_type": "code",
   "execution_count": 19,
   "id": "6cb64252",
   "metadata": {},
   "outputs": [],
   "source": [
    "def f_tri2(ball_dist, point1, point2):\n",
    "    m_side_px = ((point1[0]-point2[0])**2 + (point1[1]-point2[1])**2)**(1/2) # dist(A/B) = ((x1-x2)**2 + (y1-y2)**2)**(1/2)\n",
    "    print(m_side_px)\n",
    "\n",
    "    m_side_cm = m_side_px * 0.0264583333\n",
    "    print(m_side_cm)\n",
    "\n",
    "    cosa = (ball_dist**2 + ball_dist**2 - m_side_cm**2) / (2*ball_dist*ball_dist) # cosa = (b**2 + c**2 - a**2) / 2*b*c\n",
    "    print(cosa)\n",
    "#     a_a2 = math.degrees(cosa)\n",
    "    a_a2 = math.acos(cosa)\n",
    "    a_a2 = math.degrees(a_a2)\n",
    "\n",
    "    b_a2, g_a2 = ((180-a_a2)/2), ((180-a_a2)/2)\n",
    "    return a_a2, b_a2, g_a2 , m_side_cm\n",
    "\n"
   ]
  },
  {
   "cell_type": "code",
   "execution_count": 21,
   "id": "18810664",
   "metadata": {},
   "outputs": [
    {
     "name": "stdout",
     "output_type": "stream",
     "text": [
      "205.0609665440988\n",
      "5.425571399643915\n",
      "0.9345848333052578\n",
      "20.83882491233912 79.58058754383043 79.58058754383043 5.425571399643915\n"
     ]
    }
   ],
   "source": [
    "import math \n",
    "ball_dist, point1, point2 = 15, [3,4], [148,149]\n",
    "a_a2, b_a2, g_a2 , m_side= f_tri2(ball_dist, point1, point2)\n",
    "print(a_a2, b_a2, g_a2 , m_side)"
   ]
  },
  {
   "cell_type": "code",
   "execution_count": 3,
   "id": "567f1f19",
   "metadata": {},
   "outputs": [],
   "source": [
    "def f_tri2(ball_dist, point1, point2):\n",
    "    m_side_px = ((point1[0]-point2[0])**2 + (point1[1]-point2[1])**2)**(1/2) # dist(A/B) = ((x1-x2)**2 + (y1-y2)**2)**(1/2)\n",
    "    m_side_cm = m_side_px * 0.0264583333\n",
    "\n",
    "    cosa = (ball_dist**2 + ball_dist**2 - m_side_cm**2) / (2*ball_dist*ball_dist) # cosa = (b**2 + c**2 - a**2) / 2*b*c\n",
    "    # a_a2 = math.degrees(cosa)\n",
    "    a_a2 = math.acos(cosa)\n",
    "    a_a2 = math.degrees(a_a2)\n",
    "    b_a2, g_a2 = (180-a_a2)/2, (180-a_a2)/2\n",
    "    return a_a2, b_a2, g_a2 , m_side_cm"
   ]
  },
  {
   "cell_type": "code",
   "execution_count": 4,
   "id": "85dd5ed0",
   "metadata": {},
   "outputs": [
    {
     "name": "stdout",
     "output_type": "stream",
     "text": [
      "20.83882491233912 79.58058754383043 79.58058754383043 5.425571399643915\n"
     ]
    }
   ],
   "source": [
    "import math \n",
    "ball_dist, point1, point2 = 15, [3,4], [148,149]\n",
    "a_a2, b_a2, g_a2 , m_side= f_tri2(ball_dist, point1, point2)\n",
    "print(a_a2, b_a2, g_a2 , m_side)"
   ]
  },
  {
   "cell_type": "code",
   "execution_count": 9,
   "id": "97bc922d",
   "metadata": {},
   "outputs": [],
   "source": [
    "def f_tri3(ball_dist, ball_dist2, a_a2):\n",
    "    \n",
    "    m_side2 = ((ball_dist**2) + (ball_dist2**2) - (2 * ball_dist * ball_dist2*math.cos(a_a2)))**(1/2)\n",
    "    cosb = (m_side2**2 + ball_dist2**2 - ball_dist**2) / (2*m_side2*ball_dist) # cosa = (b**2 + c**2 - a**2) / 2*b*c\n",
    "    print(cosb)\n",
    "    b_a3 = math.acos(cosb-1)\n",
    "    print(b_a3)\n",
    "    b_a3 = math.degrees(b_a3)\n",
    "    print(b_a3)\n",
    "    g_a3 = ((180-b_a3-a_a2)),\n",
    "    return b_a3, g_a3 , m_side2  \n"
   ]
  },
  {
   "cell_type": "code",
   "execution_count": 10,
   "id": "c7bba0f1",
   "metadata": {},
   "outputs": [
    {
     "name": "stdout",
     "output_type": "stream",
     "text": [
      "1.0430679981012088\n",
      "1.527715003437942\n",
      "87.53162199580814\n",
      "87.53162199580814 (71.62955309185274,) 27.720701787166284\n"
     ]
    }
   ],
   "source": [
    "ball_dist, ball_dist2, a_a2 = 15, 18, a_a2\n",
    "\n",
    "b_a3, g_a3 , m_side2  = f_tri3(ball_dist, ball_dist2, a_a2)\n",
    "print(b_a3, g_a3 , m_side2)"
   ]
  },
  {
   "cell_type": "code",
   "execution_count": null,
   "id": "e4325688",
   "metadata": {},
   "outputs": [],
   "source": []
  },
  {
   "cell_type": "code",
   "execution_count": null,
   "id": "a94eb8f7",
   "metadata": {},
   "outputs": [],
   "source": []
  },
  {
   "cell_type": "code",
   "execution_count": null,
   "id": "4d140f9d",
   "metadata": {},
   "outputs": [],
   "source": []
  },
  {
   "cell_type": "code",
   "execution_count": null,
   "id": "409295b5",
   "metadata": {},
   "outputs": [],
   "source": [
    "aaaaaa"
   ]
  },
  {
   "cell_type": "code",
   "execution_count": 149,
   "id": "d71c9077",
   "metadata": {},
   "outputs": [
    {
     "name": "stdout",
     "output_type": "stream",
     "text": [
      "sin(ax):  0.9036597685506139\n"
     ]
    },
    {
     "data": {
      "text/plain": [
       "51.77589085371898"
      ]
     },
     "execution_count": 149,
     "metadata": {},
     "output_type": "execute_result"
    }
   ],
   "source": [
    "sinax = ch/a\n",
    "print('sin(ax): ', sinax)\n",
    "math.degrees(sinax)"
   ]
  },
  {
   "cell_type": "code",
   "execution_count": 89,
   "id": "a136da50",
   "metadata": {},
   "outputs": [
    {
     "name": "stdout",
     "output_type": "stream",
     "text": [
      "1.5707963267948966\n",
      "1.0\n"
     ]
    },
    {
     "data": {
      "text/plain": [
       "57.29577951308232"
      ]
     },
     "execution_count": 89,
     "metadata": {},
     "output_type": "execute_result"
    }
   ],
   "source": [
    "sinxx = 1\n",
    "sinxx = 90\n",
    "aaa = math.sin(math.radians(sinxx))\n",
    "print(math.radians(sinxx))\n",
    "print(aaa)\n",
    "math.degrees(aaa)"
   ]
  },
  {
   "cell_type": "code",
   "execution_count": 76,
   "id": "90b390fb",
   "metadata": {},
   "outputs": [
    {
     "name": "stdout",
     "output_type": "stream",
     "text": [
      "alfax:  0.7855966072641228\n"
     ]
    },
    {
     "data": {
      "text/plain": [
       "45.01136999603071"
      ]
     },
     "execution_count": 76,
     "metadata": {},
     "output_type": "execute_result"
    }
   ],
   "source": [
    "import math\n",
    "alfax = math.sin(sinax)\n",
    "print('alfax: ', alfax)\n",
    "math.degrees(alfax)"
   ]
  },
  {
   "cell_type": "code",
   "execution_count": 77,
   "id": "f367c69a",
   "metadata": {
    "scrolled": true
   },
   "outputs": [
    {
     "name": "stdout",
     "output_type": "stream",
     "text": [
      "betax:  0.11440339273587719\n"
     ]
    }
   ],
   "source": [
    "betax = 0.90 - alfax\n",
    "print('betax: ', betax)"
   ]
  },
  {
   "cell_type": "code",
   "execution_count": 61,
   "id": "c5f32da4",
   "metadata": {},
   "outputs": [
    {
     "data": {
      "text/plain": [
       "1.0"
      ]
     },
     "execution_count": 61,
     "metadata": {},
     "output_type": "execute_result"
    }
   ],
   "source": [
    "a = 90\n",
    "math.sin(math.radians(a))\n"
   ]
  },
  {
   "cell_type": "code",
   "execution_count": 62,
   "id": "c0c93cec",
   "metadata": {},
   "outputs": [
    {
     "data": {
      "text/plain": [
       "1.5707963267948966"
      ]
     },
     "execution_count": 62,
     "metadata": {},
     "output_type": "execute_result"
    }
   ],
   "source": [
    "math.radians(a)"
   ]
  },
  {
   "cell_type": "code",
   "execution_count": 64,
   "id": "019db794",
   "metadata": {},
   "outputs": [
    {
     "data": {
      "text/plain": [
       "45.01136999603071"
      ]
     },
     "execution_count": 64,
     "metadata": {},
     "output_type": "execute_result"
    }
   ],
   "source": [
    "math.degrees(alfax)"
   ]
  },
  {
   "cell_type": "code",
   "execution_count": null,
   "id": "27c5820f",
   "metadata": {},
   "outputs": [],
   "source": []
  },
  {
   "cell_type": "code",
   "execution_count": 92,
   "id": "9d4872fb",
   "metadata": {},
   "outputs": [
    {
     "name": "stdout",
     "output_type": "stream",
     "text": [
      "betax:  0.4152804946818699\n"
     ]
    },
    {
     "data": {
      "text/plain": [
       "23.793819659376172"
      ]
     },
     "execution_count": 92,
     "metadata": {},
     "output_type": "execute_result"
    }
   ],
   "source": [
    "sinbx = cx/a\n",
    "# print('betaax: ', sinbx)\n",
    "betax = math.sin(sinbx)\n",
    "# betax = 0.90 - alfax\n",
    "print('betax: ', betax)\n",
    "math.degrees(betax)"
   ]
  },
  {
   "cell_type": "code",
   "execution_count": 74,
   "id": "8afb4065",
   "metadata": {},
   "outputs": [
    {
     "name": "stdout",
     "output_type": "stream",
     "text": [
      "sin(alfay):  0.4282511210762332\n"
     ]
    }
   ],
   "source": [
    "sinay = ch/b\n",
    "print('sin(alfay): ', sinay)"
   ]
  },
  {
   "cell_type": "code",
   "execution_count": 75,
   "id": "34e25025",
   "metadata": {},
   "outputs": [
    {
     "name": "stdout",
     "output_type": "stream",
     "text": [
      "alfay:  0.4152804946818699\n"
     ]
    }
   ],
   "source": [
    "import math\n",
    "alfay = math.sin(sinay)\n",
    "print('alfay: ', alfay)"
   ]
  },
  {
   "cell_type": "code",
   "execution_count": 77,
   "id": "04849196",
   "metadata": {},
   "outputs": [
    {
     "name": "stdout",
     "output_type": "stream",
     "text": [
      "betay:  0.48471950531813013\n"
     ]
    }
   ],
   "source": [
    "betay = 0.90 - alfay\n",
    "print('betay: ', betay)"
   ]
  },
  {
   "cell_type": "code",
   "execution_count": null,
   "id": "13a52b9b",
   "metadata": {},
   "outputs": [],
   "source": []
  },
  {
   "cell_type": "code",
   "execution_count": null,
   "id": "83e44560",
   "metadata": {},
   "outputs": [],
   "source": []
  },
  {
   "cell_type": "code",
   "execution_count": null,
   "id": "a8cbdd55",
   "metadata": {},
   "outputs": [],
   "source": []
  },
  {
   "cell_type": "code",
   "execution_count": null,
   "id": "77bf6a9f",
   "metadata": {},
   "outputs": [],
   "source": []
  },
  {
   "cell_type": "code",
   "execution_count": null,
   "id": "307dc240",
   "metadata": {},
   "outputs": [],
   "source": []
  },
  {
   "cell_type": "code",
   "execution_count": null,
   "id": "7d281fe4",
   "metadata": {},
   "outputs": [],
   "source": []
  },
  {
   "cell_type": "code",
   "execution_count": null,
   "id": "fa43271e",
   "metadata": {},
   "outputs": [],
   "source": []
  },
  {
   "cell_type": "code",
   "execution_count": null,
   "id": "5295007b",
   "metadata": {},
   "outputs": [],
   "source": []
  },
  {
   "cell_type": "code",
   "execution_count": null,
   "id": "1cd05d07",
   "metadata": {},
   "outputs": [],
   "source": []
  },
  {
   "cell_type": "code",
   "execution_count": null,
   "id": "8fed222b",
   "metadata": {},
   "outputs": [],
   "source": []
  },
  {
   "cell_type": "code",
   "execution_count": 1,
   "id": "130a1893",
   "metadata": {},
   "outputs": [],
   "source": [
    "def find_angle(p1, p2):\n",
    "    # y2 - y1, x2 - x1\n",
    "    return  math.atan2(p2[1] - p1[1], p2[0] - p1[0]) * 180 / math.pi"
   ]
  },
  {
   "cell_type": "code",
   "execution_count": 14,
   "id": "3d9210ed",
   "metadata": {},
   "outputs": [
    {
     "name": "stdout",
     "output_type": "stream",
     "text": [
      "116.56505117707799\n"
     ]
    }
   ],
   "source": [
    "import math\n",
    "p1, p2 = (2,1),(1,3)\n",
    "angle = find_angle(p1, p2)\n",
    "print(angle)"
   ]
  },
  {
   "cell_type": "code",
   "execution_count": null,
   "id": "beb076a4",
   "metadata": {},
   "outputs": [],
   "source": []
  },
  {
   "cell_type": "code",
   "execution_count": null,
   "id": "56923c97",
   "metadata": {},
   "outputs": [],
   "source": []
  }
 ],
 "metadata": {
  "kernelspec": {
   "display_name": "Python 3 (ipykernel)",
   "language": "python",
   "name": "python3"
  },
  "language_info": {
   "codemirror_mode": {
    "name": "ipython",
    "version": 3
   },
   "file_extension": ".py",
   "mimetype": "text/x-python",
   "name": "python",
   "nbconvert_exporter": "python",
   "pygments_lexer": "ipython3",
   "version": "3.9.12"
  }
 },
 "nbformat": 4,
 "nbformat_minor": 5
}
